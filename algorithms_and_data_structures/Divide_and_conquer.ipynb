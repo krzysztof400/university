{
 "cells": [
  {
   "cell_type": "markdown",
   "metadata": {},
   "source": [
    "### Problem: X^n"
   ]
  },
  {
   "cell_type": "markdown",
   "metadata": {},
   "source": [
    "x^n = x * x * ... * x\n",
    "T(n) = O(n)\n",
    "\n",
    "x^n = if x mod 2 == 0 x^(n/2) * x^(n/2)\n",
    "      else            x^((n-1)/2) * x^((n-1)/2) * x\n",
    "\n",
    "T(n) = T(n/2) + O(1) => T(n) = O(logn)"
   ]
  },
  {
   "cell_type": "markdown",
   "metadata": {},
   "source": [
    "### Problem: n fibonacci number\n"
   ]
  },
  {
   "cell_type": "markdown",
   "metadata": {},
   "source": [
    "1. from defenition\n",
    "Fn = 0 if n == 0\n",
    "     1 if n == 1\n",
    "     Fn-1+Fn-2 if n > 1\n",
    "    \n",
    "T(n) = O(phi^n)\n",
    "\n",
    "2. bottom up\n",
    "F2, F3, ..., Fn ---> O(n)\n",
    "we're saving values of previously calculated Fk\n",
    "\n",
    "3. Fn = (1/sqrt(5))(phi^n - phi(with minus)^n)\n",
    "\n",
    "4. Lemat\n",
    "     | 1 1 |  = | Fn+1 Fn   |\n",
    "     | 1 0 |  = | Fn   Fn-1 |\n",
    "\n",
    "Alg używający tego daje O(logn)"
   ]
  },
  {
   "cell_type": "markdown",
   "metadata": {},
   "source": [
    "### Problem: multiplication of numbers"
   ]
  },
  {
   "cell_type": "markdown",
   "metadata": {},
   "source": [
    "input: x, y\n",
    "max{|x|, |y|} = n - n bitowe liczby\n",
    "\n",
    "tradycyjne mnożenie liczb ma złożonosć obliczeniową O(n^2) - mnożenie w słupku\n",
    "\n",
    "output: x*y\n",
    "\n",
    "x =xl * 2^n/2 + xr\n",
    "y = yl * 2^n/2 + yr\n",
    "\n",
    "x * y = xlyl + (xlyr + xryl) * 2^n/2 + xryr\n",
    "\n",
    "T(n) = 4T(n/4) + O(n)\n",
    "    O(n) - przesuwania bitowe (2^n) oraz sumowanie n/2 bitowych liczb dwa razy\n",
    "\n",
    "Z master theorem:\n",
    "    T(n) = aT(n/b) + O(n^d)\n",
    "\n",
    "a=4     b=2     d=1\n",
    "T(n)= O(n^log2(4)) = O(n^n) - to by nic nie dało\n",
    "\n",
    "\n",
    "\n",
    "(a+ib)(c+id) = ac - bd + i(bc + ad)\n",
    "bc + ad = (a+b)(c+d) -ac -bd\n",
    "\n",
    "zatem\n",
    "x*y = xlyl*2^n + ((xl+xr)*(yl+yr) - xlyl - xryr) * 2^n/2 + xryr\n",
    "T(n) = 3T(n/2) + O(n)\n",
    "z MT\n",
    "T(n) = O(n^log2(3)) =~ O(n^1,59)\n",
    "\n",
    "Pseudokod:\n",
    "multiply(x,y)\n",
    "    n= max{x,y}\n",
    "    if n=1: return x*y\n",
    "    xl, xr = leftmost roof(n/2), rightmost floor(n/2) bits of x\n",
    "    yl, yr = leftmost roof(n/2), rightmost floor(n/2) bits of y\n",
    "    P1 = multiply(xl, yl)\n",
    "    P2 = multiply(xr, yr)\n",
    "    P3 = multiply(xl+xr, yl+yr)\n",
    "\n",
    "    return P1*2^n + (P3 - P1 - P2)2^n/2 +P2"
   ]
  },
  {
   "cell_type": "markdown",
   "metadata": {},
   "source": [
    "### Problem: multiplication of matrixes"
   ]
  },
  {
   "cell_type": "markdown",
   "metadata": {},
   "source": [
    "### Problem: sorting"
   ]
  },
  {
   "cell_type": "markdown",
   "metadata": {},
   "source": [
    "problem z merger sortem - nie sortuje we miejscu, uzywa pamieci, operacje na pamieci sa zdecyowanie bardziej kosztowne od operacji na CPU\n",
    "\n",
    "Quicksort(A,p,q)\n",
    "1. POdziel A[p..q] na dwie podtablice A[p..k-1], pivot, A[k+1..q]\n",
    "t. że.\n",
    "forAll i nal [p..k-1] A[i] =< pivot, forALL j nal [k+1..q] A[j] >= pivot\n",
    "\n",
    "2. Quicksort(A, p, k-1) \n",
    "   Quicksort(A, k+1, q)\n",
    "\n"
   ]
  }
 ],
 "metadata": {
  "language_info": {
   "name": "python"
  }
 },
 "nbformat": 4,
 "nbformat_minor": 2
}
